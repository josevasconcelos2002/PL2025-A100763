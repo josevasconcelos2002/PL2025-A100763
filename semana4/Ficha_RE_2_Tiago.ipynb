{
  "cells": [
    {
      "cell_type": "markdown",
      "metadata": {
        "id": "oVaAea-wCM6H"
      },
      "source": [
        "# Ficha de Expressões Regulares 2"
      ]
    },
    {
      "cell_type": "markdown",
      "metadata": {
        "id": "gk5jnHXt9t4y"
      },
      "source": [
        "### Conceitos mais avançados de expressões regulares\n",
        "\n",
        "- `.` - corresponde a uma ocorrência de qualquer caracter (exceto '\\n', geralmente).\n",
        "- `\\w` - corresponde a um caracter alfanumérico (a-z, A-Z, 0-9 ou _).\n",
        "- `\\W` - corresponde a um caracter **não** alfanumérico.\n",
        "- `\\s` - corresponde a um caracter de *whitespace* (' ', '\\t', ou '\\n', por exemplo).\n",
        "- `\\S` - corresponde a um caracter que não seja *whitespace*.\n",
        "- `\\d` - corresponde a um dígito.\n",
        "- `\\D` - corresponde a um caracter que não seja um dígito.\n",
        "- `\\btot\\w+` - corresponde a uma palavra **começada** por \"tot\" (o token `\\b` representa uma *word boundary*, ou seja, o limite entre um caracter alfanumérico e outro não alfanumérico). Por outras palavras, captura a palavra \"totalidade\" mas não a palavra \"batota\". O token `\\b` também pode ser usado no fim de palavras.\n",
        "- `a(?=b)` - corresponde a um caracter `a` que tenha à sua frente um caracter `b`, mas não captura o caracter `b`. (*positive lookahead*)\n",
        "- `a(?!b)` - corresponde a um caracter `a` que **não** tenha à sua frente um caracter `b`, mas não captura o caracter seguinte. (*negative lookahead*)\n",
        "- `a(?<=b)` - corresponde a um caracter `a` que tenha atrás de si um caracter `b`, mas não captura o caracter `b`. (*positive lookbehind*)\n",
        "- `a(?<!b)` - corresponde a um caracter `a` que **não** tenha atrás de si um caracter `b`, mas não captura o caracter anterior. (*negative lookbehind*)\n"
      ]
    },
    {
      "cell_type": "markdown",
      "metadata": {
        "id": "lTaHmSRMMmvI"
      },
      "source": [
        "Podemos usar *grupos de captura* em expressões regulares para isolar segmentos da string capturada. Usamos parênteses para definir grupos de captura."
      ]
    },
    {
      "cell_type": "code",
      "execution_count": null,
      "metadata": {
        "colab": {
          "base_uri": "https://localhost:8080/"
        },
        "id": "1Aig805EMion",
        "outputId": "866ee026-c9ee-4c29-b310-42cf59551596"
      },
      "outputs": [
        {
          "name": "stdout",
          "output_type": "stream",
          "text": [
            "('13', '49')\n",
            "13:49\n",
            "13\n",
            "49\n"
          ]
        }
      ],
      "source": [
        "import re\n",
        "m = re.search(r'(2[0-3]|[0-1][0-9]):([0-5][0-9])', \"13:49\")\n",
        "\n",
        "print(m.groups()) # conjunto dos grupos de captura\n",
        "print(m.group(0)) # toda a string capturada\n",
        "print(m.group(1)) # o primeiro grupo de captura\n",
        "print(m.group(2)) # o primeiro grupo de captura"
      ]
    },
    {
      "cell_type": "markdown",
      "metadata": {
        "id": "WxIEoiMdNPkq"
      },
      "source": [
        "O módulo re possui ainda *flags* que podemos usar nas suas funções. As mais úteis são:\n",
        "\n",
        "- `re.I` ou `re.IGNORECASE`: faz uma correspondência *case insensitive*.\n",
        "- `re.M` ou `re.MULTILINE`: os tokens de âncora `^` e `$` passam a corresponder ao início/fim de cada linha, em vez do início/fim de uma string.\n",
        "- `re.S` ou `re.DOTALL`: o token `.` passa a corresponder também a um caracter `\\n`.\n",
        "\n",
        "Podemos usar estas flags da seguinte forma: `re.search(r'trans.*mar', \"TRANSF\\nORMAR\", re.I | re.S)`"
      ]
    },
    {
      "cell_type": "markdown",
      "metadata": {
        "id": "0z3asvbtZijn"
      },
      "source": [
        "## Exercício 1 - Conversão de datas ❎\n",
        "\n",
        "Define a função `iso_8601` que converte as datas presentes numa string no formato DD/MM/AAAA para o formato ISO 8601 - AAAA-MM-DD, usando expressões regulares e grupos de captura."
      ]
    },
    {
      "cell_type": "code",
      "execution_count": 58,
      "metadata": {
        "colab": {
          "base_uri": "https://localhost:8080/"
        },
        "id": "VZXeGvw7aLIG",
        "outputId": "9020cf95-37b9-4cc5-8282-cb6b4969bb9c"
      },
      "outputs": [
        {
          "name": "stdout",
          "output_type": "stream",
          "text": [
            "A 2022-01-03, Pedro viajou para a praia com a sua família.\n",
            "Eles ficaram hospedados num hotel e aproveitaram o sol e o mar durante toda a semana.\n",
            "Mais tarde, no dia 2022-01-12, Pedro voltou para casa e começou a trabalhar num novo projeto.\n",
            "Ele passou muitas horas no escritório, mas finalmente terminou o projeto a 2022-01-15.\n"
          ]
        }
      ],
      "source": [
        "import re\n",
        "texto = \"\"\"A 03/01/2022, Pedro viajou para a praia com a sua família.\n",
        "Eles ficaram hospedados num hotel e aproveitaram o sol e o mar durante toda a semana.\n",
        "Mais tarde, no dia 12/01/2022, Pedro voltou para casa e começou a trabalhar num novo projeto.\n",
        "Ele passou muitas horas no escritório, mas finalmente terminou o projeto a 15/01/2022.\"\"\"\n",
        "\n",
        "\n",
        "def iso_8601(texto):\n",
        "    texto_iso_8601 = re.sub(r'(\\d{2})\\/(\\d{2})\\/(\\d{4})', r'\\3-\\2-\\1', texto)\n",
        "    return texto_iso_8601\n",
        "\n",
        "\n",
        "print(iso_8601(texto))\n",
        "\n",
        "\n",
        "\n"
      ]
    },
    {
      "cell_type": "markdown",
      "metadata": {
        "id": "WscyvBdMY8ic"
      },
      "source": [
        "## Exercício 2 - Validação de ficheiros ❎\n",
        "\n",
        "Escreve um programa que lê uma lista de nomes de ficheiros e determina se cada nome é válido ou não. O nome de um ficheiro deve conter apenas caracteres alfanuméricos, hífens, underscores ou pontos, seguido de uma extensão (e.g., \".txt\", \".png\", etc.)."
      ]
    },
    {
      "cell_type": "code",
      "execution_count": null,
      "metadata": {
        "colab": {
          "base_uri": "https://localhost:8080/"
        },
        "id": "uUAouM4MZkF6",
        "outputId": "10a3a1b7-8142-477f-9cbe-4e26136a228c"
      },
      "outputs": [
        {
          "name": "stdout",
          "output_type": "stream",
          "text": [
            "Valido document.txt com extensao .txt\n",
            "Invalido\n",
            "Valido image_001.jpg com extensao .jpg\n",
            "Valido script.sh.txt com extensao .sh.txt\n",
            "Valido test_file.txt com extensao .txt\n",
            "Invalido\n",
            "Valido my_resume.docx com extensao .docx\n",
            "Valido .hidden-file.txt com extensao .hidden-file.txt\n",
            "Invalido\n",
            "Invalido\n"
          ]
        }
      ],
      "source": [
        "import re\n",
        "file_names = [\n",
        "  \"document.txt\", # válido\n",
        "  \"file name.docx\", # inválido\n",
        "  \"image_001.jpg\", # válido\n",
        "  \"script.sh.txt\", # válido\n",
        "  \"test_file.txt\", # válido\n",
        "  \"file_name.\", # inválido\n",
        "  \"pasta2\" #inválido\n",
        "  \"my_resume.docx\", # válido\n",
        "  \".hidden-file.txt\", # válido\n",
        "  \"important-file.text file\", # inválido\n",
        "  \"file%name.jpg\" # inválido\n",
        "  \"pasta1\" #inválido\n",
        "]\n",
        "\n",
        "\n",
        "def validate_file_names(file_names):\n",
        "  for file_name in file_names:\n",
        "    file = re.search(r'')\n"
      ]
    },
    {
      "cell_type": "markdown",
      "metadata": {
        "id": "keqnY2BFZkvR"
      },
      "source": [
        "### Alínea 2.1\n",
        "\n",
        "Modifica o programa anterior para colocar os nomes de ficheiro válidos num dicionário, no qual as chaves deverão ser as extensões dos mesmos. Por outras palavras, agrupa os ficheiros por extensão."
      ]
    },
    {
      "cell_type": "code",
      "execution_count": null,
      "metadata": {
        "id": "zdJMjdJsZ6FZ"
      },
      "outputs": [],
      "source": []
    },
    {
      "cell_type": "markdown",
      "metadata": {
        "id": "7mMTNkFUm7lV"
      },
      "source": [
        "## Exercício 3 - Códigos postais 2\n",
        "\n",
        "Define uma função `codigos_postais` que recebe uma lista de códigos postais e divide-os com base no hífen.\n",
        "\n",
        " - A função pode receber códigos postais inválidos.\n",
        " - A função deve devolver uma lista de pares e apenas processar cada linha uma vez."
      ]
    },
    {
      "cell_type": "code",
      "execution_count": null,
      "metadata": {
        "id": "rvxXocYpnqlX"
      },
      "outputs": [],
      "source": [
        "lista = [\n",
        "    \"4700-000\", # válido\n",
        "    \"9876543\", # inválido\n",
        "    \"1234-567\", # válido\n",
        "    \"8x41-5a3\", # inválido\n",
        "    \"84234-12\", # inválido\n",
        "    \"4583--321\", # inválido\n",
        "    \"9481-025\" # válido\n",
        "]\n",
        "\n",
        "# ..."
      ]
    },
    {
      "cell_type": "markdown",
      "metadata": {
        "id": "m2rtSDSccn33"
      },
      "source": [
        "## Exercício 4 - Expansão de abreviaturas ❎\n",
        "\n",
        "Escreve um filtro de texto que expanda as abreviaturas que encontrar no texto fonte no formato \"/abrev\"."
      ]
    },
    {
      "cell_type": "code",
      "execution_count": null,
      "metadata": {
        "colab": {
          "base_uri": "https://localhost:8080/"
        },
        "id": "Hm60iNFV52oX",
        "outputId": "a4b91141-2292-4de0-bbc4-6f403eb67abe"
      },
      "outputs": [
        {
          "name": "stdout",
          "output_type": "stream",
          "text": [
            "A Unidade Curricular de Processamento de Linguagens é muito fixe! É uma Unidade Curricular que acrescenta muito ao curso de Licenciatura em Engenharia Informática da Universidade do Minho.\n"
          ]
        }
      ],
      "source": [
        "import re\n",
        "abreviaturas = {\n",
        "    \"UM\": \"Universidade do Minho\",\n",
        "    \"LEI\": \"Licenciatura em Engenharia Informática\",\n",
        "    \"UC\": \"Unidade Curricular\",\n",
        "    \"PL\": \"Processamento de Linguagens\"\n",
        "}\n",
        "\n",
        "texto = \"A /abrev{UC} de /abrev{PL} é muito fixe! É uma /abrev{UC} que acrescenta muito ao curso de /abrev{LEI} da /abrev{UM}.\""
      ]
    },
    {
      "cell_type": "markdown",
      "metadata": {
        "id": "oEiMpi4FDkqm"
      },
      "source": [
        "## Exercício 5 - Matrículas\n",
        "\n",
        "Define uma função `matricula_valida` que recebe uma string de texto e determina se esta contém uma matrícula válida. Uma matrícula segue o formato AA-BB-CC, no qual dois dos três conjuntos devem ser compostos por números e o terceiro por letras maiúsculas (por exemplo, 01-AB-23), ou o novo formato no qual dois dos conjuntos são compostos por letras maiúsculas e o terceiro por números (por exemplo, 89-WX-YZ). Os conjuntos podem ser separados por um hífen ou um espaço.\n",
        "\n",
        "Extra: Garante que o mesmo separador é usado para separar os três conjuntos."
      ]
    },
    {
      "cell_type": "code",
      "execution_count": null,
      "metadata": {
        "id": "CPR0gi10E5Dj"
      },
      "outputs": [],
      "source": [
        "matriculas = [\n",
        "    \"AA-AA-AA\", # inválida\n",
        "    \"LR-RB-32\", # válida\n",
        "    \"1234LX\", # inválida\n",
        "    \"PL 22 23\", # válida\n",
        "    \"ZZ-99-ZZ\", # válida\n",
        "    \"54-tb-34\", # inválida\n",
        "    \"12 34 56\", # inválida\n",
        "    \"42-HA BQ\" # válida, mas inválida com o requisito extra\n",
        "]"
      ]
    },
    {
      "cell_type": "markdown",
      "metadata": {
        "id": "-_NVZEbp8xM-"
      },
      "source": [
        "## Exercício 6 - *Mad Libs* ❎\n",
        "\n",
        "O jogo *Mad Libs*, bastante comum em países como os Estados Unidos, consiste em pegar num texto com espaços para algumas palavras e preencher esses espaços de acordo com o tipo de palavra que é pedida.\n",
        "\n",
        "Escreve um programa que lê um texto no formato *Mad Libs* e pede ao utilizador para fornecer palavras que completem corretamente o texto."
      ]
    },
    {
      "cell_type": "code",
      "execution_count": null,
      "metadata": {
        "id": "VGX0mrL29Vgv"
      },
      "outputs": [],
      "source": [
        "texto = \"\"\"Num lindo dia de [ESTAÇÃO DO ANO], [NOME DE PESSOA] foi passear com o seu [EXPRESSÃO DE PARENTESCO MASCULINA].\n",
        "Quando chegaram à [NOME DE LOCAL FEMININO], encontraram um [OBJETO MASCULINO] muito [ADJETIVO MASCULINO].\n",
        "Ficaram muito confusos, pois não conseguiam identificar a função daquilo.\n",
        "Seria para [VERBO INFINITIVO]? Tentaram perguntar a [NOME DE PESSOA FAMOSA], que também não sabia.\n",
        "Desanimados, pegaram no objeto e deixaram-no no [NOME DE LOCAL MASCULINO] mais próximo.\n",
        "Talvez os [NOME PLURAL MASCULINO] de lá conseguissem encontrar alguma utilidade para aquilo.\"\"\"\n",
        "\n",
        "# ..."
      ]
    },
    {
      "cell_type": "markdown",
      "metadata": {
        "id": "z8HMWeua6Zc2"
      },
      "source": [
        "## Exercício 7 - Extração de informação de HTML ❎\n",
        "\n",
        "A partir do ficheiro HTML contendo informações sobre produtos de uma loja online. Pretende-se extrair informações utilizando expressões regulares com o módulo re:\n",
        "\n",
        "Informação a extrair:\n",
        "\n",
        "- Títulos dos produtos\n",
        "- Preços dos produtos\n",
        "- Links das imagens dos produtos\n",
        "- Links para as páginas dos produtos\n",
        "- Lista de características do produto\n",
        "\n",
        "Ficheiro html:\n",
        "```\n",
        "<!DOCTYPE html>\n",
        "<html>\n",
        "<head>\n",
        "    <title>Loja de Eletrônicos</title>\n",
        "</head>\n",
        "<body>\n",
        "    <div class=\"product\">\n",
        "        <h2>Smartphone X</h2>\n",
        "        <span class=\"price\">$799</span>\n",
        "        <img src=\"images/smartphone.jpg\" alt=\"Smartphone X\">\n",
        "        <a class=\"product-link\" href=\"smartphone.html\">Ver Detalhes</a>\n",
        "        <ul class=\"features\">\n",
        "            <li>64GB Armazenamento</li>\n",
        "            <li>Câmera 12MP</li>\n",
        "            <li>Bateria 4000mAh</li>\n",
        "        </ul>\n",
        "    </div>\n",
        "    \n",
        "    <div class=\"product\">\n",
        "        <h2>Laptop Pro</h2>\n",
        "        <span class=\"price\">$1299</span>\n",
        "        <img src=\"images/laptop.jpg\" alt=\"Laptop Pro\">\n",
        "        <a class=\"product-link\" href=\"laptop.html\">Ver Detalhes</a>\n",
        "        <ul class=\"features\">\n",
        "            <li>512GB SSD</li>\n",
        "            <li>16GB RAM</li>\n",
        "            <li>Processador i7</li>\n",
        "        </ul>\n",
        "    </div>\n",
        "\n",
        "    <div class=\"product\">\n",
        "        <h2>HeadPhones</h2>\n",
        "        <span class=\"price\">$199</span>\n",
        "        <img src=\"images/fones.jpg\" alt=\"HeadPhones\">\n",
        "        <a class=\"product-link\" href=\"fones.html\">Ver Detalhes</a>\n",
        "        <ul class=\"features\">\n",
        "            <li>Cancelamento de Ruído</li>\n",
        "            <li>Bateria 20h</li>\n",
        "            <li>Conexão Bluetooth</li>\n",
        "        </ul>\n",
        "    </div>\n",
        "</body>\n",
        "</html>\n",
        "\n",
        "```\n",
        "Output esperado no terminal:\n",
        "```\n",
        "=== 📦 Produtos Extraídos ===\n",
        "\n",
        "🛒 Produto: Smartphone X\n",
        "💲 Preço: $799\n",
        "🖼️ Imagem: images/smartphone.jpg\n",
        "🔗 Link: smartphone.html\n",
        "📋 Características:\n",
        "   - 64GB Armazenamento\n",
        "   - Câmera 12MP\n",
        "   - Bateria 4000mAh\n",
        "--------------------------------------------------\n",
        "🛒 Produto: Laptop Pro\n",
        "💲 Preço: $1299\n",
        "🖼️ Imagem: images/laptop.jpg\n",
        "🔗 Link: laptop.html\n",
        "📋 Características:\n",
        "   - 512GB SSD\n",
        "   - 16GB RAM\n",
        "   - Processador i7\n",
        "--------------------------------------------------\n",
        "🛒 Produto: HeadPhones\n",
        "💲 Preço: $199\n",
        "🖼️ Imagem: images/fones.jpg\n",
        "🔗 Link: fones.html\n",
        "📋 Características:\n",
        "   - Cancelamento de Ruído\n",
        "   - Bateria 20h\n",
        "   - Conexão Bluetooth\n",
        "```"
      ]
    },
    {
      "cell_type": "code",
      "execution_count": 56,
      "metadata": {
        "id": "YZxTwl0C6v2b"
      },
      "outputs": [
        {
          "name": "stdout",
          "output_type": "stream",
          "text": [
            "=== 📦 Produtos Extraídos ===\n",
            "\n",
            "🛒 Produto: Smartphone X\n",
            "💲 Preço: $799\n",
            "🖼️ Imagem: images/smartphone.jpg\n",
            "🔗 Link: smartphone.html\n",
            "📋 Características: \n",
            "    - 64GB Armazenamento\n",
            "    - Câmera 12MP\n",
            "    - Bateria 4000mAh\n",
            "--------------------------------------------------\n",
            "🛒 Produto: Laptop Pro\n",
            "💲 Preço: $1299\n",
            "🖼️ Imagem: images/laptop.jpg\n",
            "🔗 Link: laptop.html\n",
            "📋 Características: \n",
            "    - 512GB SSD\n",
            "    - 16GB RAM\n",
            "    - Processador i7\n",
            "--------------------------------------------------\n",
            "🛒 Produto: HeadPhones\n",
            "💲 Preço: $199\n",
            "🖼️ Imagem: images/fones.jpg\n",
            "🔗 Link: fones.html\n",
            "📋 Características: \n",
            "    - Cancelamento de Ruído\n",
            "    - Bateria 20h\n",
            "    - Conexão Bluetooth\n"
          ]
        }
      ],
      "source": [
        "import re\n",
        "\n",
        "ficheiro = open(\"ficheiro.html\", \"r\")\n",
        "ficheiro_html = ficheiro.read()\n",
        "\n",
        "produtos = re.findall(r'<div class=\"product\">(.*?)</div>', ficheiro_html, re.DOTALL)\n",
        "print(\"=== 📦 Produtos Extraídos ===\\n\")\n",
        "i = 0\n",
        "for produto in produtos:\n",
        "    if i != 0:\n",
        "        print('--------------------------------------------------')\n",
        "    i+=1\n",
        "    titulo = re.search(r'<h2>(.*?)</h2>', produto)\n",
        "    print('🛒 Produto: ' + titulo.group(1))\n",
        "    price = re.search(r'<span class=\"price\">(.*?)</span>', produto)\n",
        "    print('💲 Preço: ' + price.group(1))\n",
        "    img = re.search(r'<img src=\"(.*?)\"', produto)\n",
        "    print('🖼️ Imagem: ' + img.group(1))\n",
        "    link = re.search(r'<a .* href=\"(.*?)\"', produto)\n",
        "    print('🔗 Link: ' + link.group(1))\n",
        "    lista = re.search(r'<ul class=\"features\">(.*?)</ul>', produto, re.DOTALL)\n",
        "    #print(lista.group(1))\n",
        "    features = re.split(r'<li>(.*?)</li>', lista.group(1))\n",
        "    print(\"📋 Características: \")\n",
        "    for feature in features:\n",
        "        if '\\n' not in feature:\n",
        "            print('    - ' + feature)\n",
        "    \n"
      ]
    }
  ],
  "metadata": {
    "colab": {
      "provenance": []
    },
    "kernelspec": {
      "display_name": "Python 3",
      "name": "python3"
    },
    "language_info": {
      "codemirror_mode": {
        "name": "ipython",
        "version": 3
      },
      "file_extension": ".py",
      "mimetype": "text/x-python",
      "name": "python",
      "nbconvert_exporter": "python",
      "pygments_lexer": "ipython3",
      "version": "3.10.12"
    }
  },
  "nbformat": 4,
  "nbformat_minor": 0
}
