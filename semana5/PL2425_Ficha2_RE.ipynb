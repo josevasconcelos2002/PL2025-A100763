{
  "cells": [
    {
      "cell_type": "markdown",
      "metadata": {
        "id": "oVaAea-wCM6H"
      },
      "source": [
        "# Ficha de Expressões Regulares 2"
      ]
    },
    {
      "cell_type": "markdown",
      "metadata": {
        "id": "gk5jnHXt9t4y"
      },
      "source": [
        "### Conceitos mais avançados de expressões regulares\n",
        "\n",
        "- `.` - corresponde a uma ocorrência de qualquer caracter (exceto '\\n', geralmente).\n",
        "- `\\w` - corresponde a um caracter alfanumérico (a-z, A-Z, 0-9 ou _).\n",
        "- `\\W` - corresponde a um caracter **não** alfanumérico.\n",
        "- `\\s` - corresponde a um caracter de *whitespace* (' ', '\\t', ou '\\n', por exemplo).\n",
        "- `\\S` - corresponde a um caracter que não seja *whitespace*.\n",
        "- `\\d` - corresponde a um dígito.\n",
        "- `\\D` - corresponde a um caracter que não seja um dígito.\n",
        "- `\\btot\\w+` - corresponde a uma palavra **começada** por \"tot\" (o token `\\b` representa uma *word boundary*, ou seja, o limite entre um caracter alfanumérico e outro não alfanumérico). Por outras palavras, captura a palavra \"totalidade\" mas não a palavra \"batota\". O token `\\b` também pode ser usado no fim de palavras.\n",
        "- `a(?=b)` - corresponde a um caracter `a` que tenha à sua frente um caracter `b`, mas não captura o caracter `b`. (*positive lookahead*)\n",
        "- `a(?!b)` - corresponde a um caracter `a` que **não** tenha à sua frente um caracter `b`, mas não captura o caracter seguinte. (*negative lookahead*)\n",
        "- `(?<=b)a` - corresponde a um caracter `a` que tenha atrás de si um caracter `b`, mas não captura o caracter `b`. (*positive lookbehind*)\n",
        "- `(?<!b)a` - corresponde a um caracter `a` que **não** tenha atrás de si um caracter `b`, mas não captura o caracter anterior. (*negative lookbehind*)\n"
      ]
    },
    {
      "cell_type": "markdown",
      "metadata": {
        "id": "lTaHmSRMMmvI"
      },
      "source": [
        "Podemos usar *grupos de captura* em expressões regulares para isolar segmentos da string capturada. Usamos parênteses para definir grupos de captura."
      ]
    },
    {
      "cell_type": "code",
      "execution_count": null,
      "metadata": {
        "colab": {
          "base_uri": "https://localhost:8080/"
        },
        "id": "1Aig805EMion",
        "outputId": "9d51f2bc-c109-49dc-c7cb-60e4dd72c9b3"
      },
      "outputs": [
        {
          "name": "stdout",
          "output_type": "stream",
          "text": [
            "('13', '49')\n",
            "13:49\n",
            "13\n",
            "49\n"
          ]
        }
      ],
      "source": [
        "import re\n",
        "m = re.search(r'(2[0-3]|[0-1][0-9]):([0-5][0-9])', \"hora atual 2:30 24:00 13:49\")\n",
        "\n",
        "print(m.groups()) # conjunto dos grupos de captura\n",
        "print(m.group(0)) # toda a string capturada\n",
        "print(m.group(1)) # o primeiro grupo de captura\n",
        "print(m.group(2)) # o segundo grupo de captura"
      ]
    },
    {
      "cell_type": "markdown",
      "metadata": {
        "id": "WxIEoiMdNPkq"
      },
      "source": [
        "O módulo re possui ainda *flags* que podemos usar nas suas funções. As mais úteis são:\n",
        "\n",
        "- `re.I` ou `re.IGNORECASE`: faz uma correspondência *case insensitive*.\n",
        "- `re.M` ou `re.MULTILINE`: os tokens de âncora `^` e `$` passam a corresponder ao início/fim de cada linha, em vez do início/fim de uma string.\n",
        "- `re.S` ou `re.DOTALL`: o token `.` passa a corresponder também a um caracter `\\n`.\n",
        "\n",
        "Podemos usar estas flags da seguinte forma: `re.search(r'trans.*mar', \"TRANSF\\nORMAR\", re.I | re.S)`"
      ]
    },
    {
      "cell_type": "markdown",
      "metadata": {
        "id": "aL5y_ZXvpZbt"
      },
      "source": [
        "##Exercício 0 - Calculo da Nota Média de um Aluno##"
      ]
    },
    {
      "cell_type": "code",
      "execution_count": null,
      "metadata": {
        "id": "mpWbWq6Apm4o"
      },
      "outputs": [],
      "source": [
        "import re\n",
        "\n",
        "print(\"Informação dum aluno no formato: NumAl; NomeCompl; N1; ...; Nn\")\n",
        "inputFromUser = input(\">> \")\n",
        "while inputFromUser != \"\":\n",
        "  lista = re.split(r';', inputFromUser, maxsplit=2)\n",
        "    ............\n",
        "    print(\"O aluno com número \", XXX, \" e nome \", XXX, \" tem média: \", med)\n",
        "  inputFromUser = input(\">> \")\n",
        "\n",
        "\n"
      ]
    },
    {
      "cell_type": "markdown",
      "metadata": {
        "id": "0z3asvbtZijn"
      },
      "source": [
        "## Exercício 1 - Conversão de datas\n",
        "\n",
        "Define a função `iso_8601` que converte as datas presentes numa string no formato DD/MM/AAAA para o formato ISO 8601 - AAAA-MM-DD, usando expressões regulares e grupos de captura."
      ]
    },
    {
      "cell_type": "code",
      "execution_count": null,
      "metadata": {
        "id": "VZXeGvw7aLIG"
      },
      "outputs": [],
      "source": [
        "import re\n",
        "\n",
        "texto = \"\"\"A 03/01/2022, Pedro viajou para a praia com a sua família.\n",
        "Eles ficaram hospedados num hotel e aproveitaram o sol e o mar durante toda a semana.\n",
        "Mais tarde, no dia 12/01/2022, Pedro voltou para casa e começou a trabalhar num novo projeto.\n",
        "Ele passou muitas horas no escritório, mas finalmente terminou o projeto a 15/01/2022.\"\"\"\n",
        "\n",
        "# ...\n",
        "res = ......\n",
        "print(res)"
      ]
    },
    {
      "cell_type": "markdown",
      "metadata": {
        "id": "WscyvBdMY8ic"
      },
      "source": [
        "## Exercício 2 - Validação de ficheiros\n",
        "\n",
        "Escreve um programa que lê uma lista de nomes de ficheiros e determina se cada nome é válido ou não. O nome de um ficheiro deve conter apenas caracteres alfanuméricos, hífens, underscores ou pontos, seguido de uma extensão (e.g., \".txt\", \".png\", etc.)."
      ]
    },
    {
      "cell_type": "code",
      "execution_count": null,
      "metadata": {
        "colab": {
          "base_uri": "https://localhost:8080/"
        },
        "id": "uUAouM4MZkF6",
        "outputId": "06b44715-6d35-455a-8d13-1900863dd2ec"
      },
      "outputs": [
        {
          "name": "stdout",
          "output_type": "stream",
          "text": [
            "None\n"
          ]
        }
      ],
      "source": [
        "file_names = [\n",
        "  \"document.txt\", # válido\n",
        "  \"file name.docx\", # inválido\n",
        "  \"image_001.jpg\", # válido\n",
        "  \"script.sh.tt\", # válido\n",
        "  \"test_file.txt\", # válido\n",
        "  \"file_name.\", # inválido\n",
        "  \"my_resume.docx\", # válido\n",
        "  \".hidden-file.txt\", # válido\n",
        "  \"important-file.text file\", # inválido\n",
        "  \"file%name.jpg\" # inválido\n",
        "]\n",
        "\n",
        "import re\n",
        "# ...\n",
        "print(vale := re.match( r'[A-Za-z][A-Za-z\\_\\-.\\d]*\\.([a-z]{1,4})$', file_names[3] ))\n",
        "\n"
      ]
    },
    {
      "cell_type": "markdown",
      "metadata": {
        "id": "keqnY2BFZkvR"
      },
      "source": [
        "### Alínea 2.1\n",
        "\n",
        "Modifica o programa anterior para colocar os nomes de ficheiro válidos num dicionário, no qual as chaves deverão ser as extensões dos mesmos. Por outras palavras, agrupa os ficheiros por extensão."
      ]
    },
    {
      "cell_type": "code",
      "execution_count": null,
      "metadata": {
        "id": "zdJMjdJsZ6FZ"
      },
      "outputs": [],
      "source": [
        "file_names = [\n",
        "  \"document.txt\", # válido\n",
        "  \"file name.docx\", # inválido\n",
        "  \"image_001.jpg\", # válido\n",
        "  \"image002.jpg\", # válido\n",
        "  \"script.sh.txt\", # válido\n",
        "  \"test_file.txt\", # válido\n",
        "  \"file_name.\", # inválido\n",
        "  \"my_resume.docx\", # válido\n",
        "  \".hidden-file.txt\", # inválido\n",
        "  \"important-file.text file\", # inválido\n",
        "  \"file%name.jpg\" # inválido\n",
        "]\n",
        "\n",
        "import re\n",
        "# ...\n",
        "dic = {}\n",
        "for file in file_names:\n",
        "  ...........\n",
        "\n",
        "for key in dic:\n",
        "    print(key,\" -> \",dic[key])\n",
        "\n"
      ]
    },
    {
      "cell_type": "markdown",
      "metadata": {
        "id": "a40c7yfabZOZ"
      },
      "source": [
        "## Exercício 3 - Conversão de nomes\n",
        "\n",
        "Escreve um filtro de texto que converte cada nome completo de uma pessoa encontrada num texto fonte, no formato `PrimeiroNome SegundoNome [...] UltimoNome` para o formato `UltimoNome, PrimeiroNome`. Por exemplo, \"Rui Vieira de Castro\" passa a \"Castro, Rui\". Atenção aos conectores \"de\", \"dos\", etc."
      ]
    },
    {
      "cell_type": "code",
      "execution_count": null,
      "metadata": {
        "colab": {
          "base_uri": "https://localhost:8080/"
        },
        "id": "aYONUP3BcAdf",
        "outputId": "2a317c22-8786-41ce-839f-a4492dbe68c2"
      },
      "outputs": [
        {
          "name": "stdout",
          "output_type": "stream",
          "text": [
            "Transformação 2:  Este texto foi feito por Rodrigues, S. dos Santos, com\n",
            "base no texto original de Moura, P., com a ajuda\n",
            "dos professores Henriques, P. e Dias, J. de Almeida.\n",
            "Apesar de partilharem o mesmo apelido, a Sofia não é da mesma família do famoso\n",
            "autor Santos, J..\n",
            "Este texto foi feito por Santos, S., com\n",
            "base no texto original de Moura, P., com a ajuda\n",
            "dos professores Henriques, P. e Almeida, J..\n",
            "Apesar de partilharem o mesmo apelido, a Sofia não é da mesma família do famoso\n",
            "autor Santos, J..\n"
          ]
        }
      ],
      "source": [
        "import re\n",
        "\n",
        "texto = \"\"\"Este texto foi feito por Sofia Guilherme Rodrigues dos Santos, com\n",
        "base no texto original de Pedro Rafael Paiva Moura, com a ajuda\n",
        "dos professores Pedro Rangel Henriques e José João Antunes Guimarães Dias de Almeida.\n",
        "Apesar de partilharem o mesmo apelido, a Sofia não é da mesma família do famoso\n",
        "autor José Rodrigues  Santos.\"\"\"\n",
        "\n",
        "# ...\n",
        "nome = r'[A-Z][a-zéêãàáâôõóíú]+'\n",
        "\n",
        "#novo_texto = re.sub(rf'({nome})(\\s+{nome})+', r'\\2 \\1', texto)\n",
        "#print(\"Transformação 1: \", novo_texto)\n",
        "\n",
        "def processa_nome(m):\n",
        "    primeiro = m[1]\n",
        "    ultimo = m[2].lstrip()\n",
        "    return f\"{ultimo}, {primeiro[0]}.\"\n",
        "\n",
        "novo_texto = re.sub(rf'({nome})(\\s+{nome})+', processa_nome, texto)\n",
        "print(\"Transformação 2: \",novo_texto)\n",
        "\n",
        "def nomes_completos2(fonte: str) -> str:\n",
        "    primeiro_nome = r'([A-ZÁÀÂÃÉÈÊẼÍÌÓÒÔÕÚÙ])[a-záàâãéèêẽíìóòôõúù]*'\n",
        "    nome = r'[A-ZÁÀÂÃÉÈÊẼÍÌÓÒÔÕÚÙ][a-záàâãéèêẽíìóòôõúù]*'\n",
        "    exp = rf'\\b{primeiro_nome}\\s*(?:(?:{nome}|do|da|dos|das|de)\\s*)*({nome})\\b'\n",
        "    return re.sub(exp, r'\\2, \\1.', fonte)\n",
        "\n",
        "print(\"Transformação 3: \",nomes_completos2(texto))\n"
      ]
    },
    {
      "cell_type": "markdown",
      "metadata": {
        "id": "7mMTNkFUm7lV"
      },
      "source": [
        "import re\n",
        "## Exercício 4 - Códigos postais 2\n",
        "\n",
        "Define uma função `codigos_postais` que recebe uma lista de códigos postais e divide-os com base no hífen. Ao contrário do exercício da ficha anterior, esta função pode receber códigos postais inválidos. A função deve devolver uma lista de pares e apenas processar cada linha uma vez."
      ]
    },
    {
      "cell_type": "code",
      "execution_count": null,
      "metadata": {
        "id": "rvxXocYpnqlX"
      },
      "outputs": [],
      "source": [
        "import re\n",
        "lista = [\n",
        "    \"4700-000\", # válido\n",
        "    \"4715-012\", # válido\n",
        "    \"987-6543\", # inválido\n",
        "    \"1234-567\", # válido\n",
        "    \"8x41-5a3\", # inválido\n",
        "    \"84234-12\", # inválido\n",
        "    \"4583--321\", # inválido\n",
        "    \"4583-321\", # válido\n",
        "    \"9481-025\" # válido\n",
        "]\n",
        "\n",
        "reCod = re.compile(r'(\\d{4})-(\\d{3])')\n",
        "res = []\n",
        "......."
      ]
    },
    {
      "cell_type": "markdown",
      "metadata": {
        "id": "m2rtSDSccn33"
      },
      "source": [
        "## Exercício 5 - Expansão de abreviaturas\n",
        "\n",
        "Escreve um filtro de texto que expanda as abreviaturas que encontrar no texto fonte no formato \"/abrev\"."
      ]
    },
    {
      "cell_type": "code",
      "execution_count": null,
      "metadata": {
        "id": "Hm60iNFV52oX"
      },
      "outputs": [],
      "source": [
        "abreviaturas = {\n",
        "    \"UM\": \"Universidade do Minho\",\n",
        "    \"LEI\": \"Licenciatura em Engenharia Informática\",\n",
        "    \"UC\": \"Unidade Curricular\",\n",
        "    \"PL\": \"Processamento de Linguagens\",\n",
        "    \"MV\" : \"Maria Vitória\",\n",
        "    \"mt\" : \"muito\",\n",
        "    \"tb\" : \"também\",\n",
        "    \"mb\" : \"muito bem\",\n",
        "    \"cqd\" : \"como queriamos demonstrar\"\n",
        "}\n",
        "\n",
        "import re\n",
        "texto1 = \"A /UU de /PL é muito fixe! É uma /UC que acrescenta muito ao curso de /LEI da /UM.\"\n",
        "texto2 = \"\"\"\n",
        "- Eu gosto /mt de manga.\n",
        "- Fixe! Eu e /tu /tb!\n",
        "Fim da história /MV.\n",
        "   /cqd.\n",
        "   /mb para terminar!\n",
        "\"\"\"\n",
        "texto = texto1+\"\\n\"+texto2\n",
        "\n",
        "# ...\n",
        "def expande(pal):\n",
        "  .......................\n",
        "  return res\n",
        "\n",
        "txtExpandido = ...........\n",
        "print(txtExpandido)\n"
      ]
    },
    {
      "cell_type": "markdown",
      "metadata": {
        "id": "oEiMpi4FDkqm"
      },
      "source": [
        "## Exercício 6 - Matrículas\n",
        "\n",
        "Define uma função `matricula_valida` que recebe uma string de texto e determina se esta contém uma matrícula válida. Uma matrícula segue o formato AA-BB-CC, no qual dois dos três conjuntos devem ser compostos por números e o terceiro por letras maiúsculas (por exemplo, 01-AB-23), ou o novo formato no qual dois dos conjuntos são compostos por letras maiúsculas e o terceiro por números (por exemplo, 89-WX-YZ). Os conjuntos podem ser separados por um hífen ou um espaço.\n",
        "\n",
        "Extra: Garante que o mesmo separador é usado para separar os três conjuntos."
      ]
    },
    {
      "cell_type": "code",
      "execution_count": null,
      "metadata": {
        "id": "CPR0gi10E5Dj"
      },
      "outputs": [],
      "source": [
        "matriculas = [\n",
        "    \"AA-AA-AA\", # inválida\n",
        "    \"LR-RB-32\", # válida\n",
        "    \"1234LX\", # inválida\n",
        "    \"PL 22 23\", # válida\n",
        "    \"ZZ-99-ZZ\", # válida\n",
        "    \"54-tb-34\", # inválida\n",
        "    \"12 34 56\", # inválida\n",
        "    \"42-HA BQ\" # válida, mas inválida com o requisito extra\n",
        "]"
      ]
    },
    {
      "cell_type": "markdown",
      "metadata": {
        "id": "-_NVZEbp8xM-"
      },
      "source": [
        "## Exercício 7 - *Mad Libs*\n",
        "\n",
        "O jogo *Mad Libs*, bastante comum em países como os Estados Unidos, consiste em pegar num texto com espaços para algumas palavras e preencher esses espaços de acordo com o tipo de palavra que é pedida.\n",
        "\n",
        "Escreve um programa que lê um texto no formato *Mad Libs* e pede ao utilizador para fornecer palavras que completem corretamente o texto."
      ]
    },
    {
      "cell_type": "code",
      "execution_count": null,
      "metadata": {
        "id": "VGX0mrL29Vgv"
      },
      "outputs": [],
      "source": [
        "texto = \"\"\"Num lindo dia de [ESTAÇÃO DO ANO], [NOME DE PESSOA] foi passear com o seu [EXPRESSÃO DE PARENTESCO MASCULINA].\n",
        "Quando chegaram à [NOME DE LOCAL FEMININO], encontraram um [OBJETO MASCULINO] muito [ADJETIVO MASCULINO].\n",
        "Ficaram muito confusos, pois não conseguiam identificar a função daquilo.\n",
        "Seria para [VERBO INFINITIVO]? Tentaram perguntar a [NOME DE PESSOA FAMOSA], que também não sabia.\n",
        "Desanimados, pegaram no objeto e deixaram-no no [NOME DE LOCAL MASCULINO] mais próximo.\n",
        "Talvez os [NOME PLURAL MASCULINO] de lá conseguissem encontrar alguma utilidade para aquilo.\"\"\"\n",
        "\n",
        "# ...\n",
        "from re import *\n",
        "\n",
        "def expande(pal):\n",
        "  res = input(f\"{pal.group(1)}?\")\n",
        "  return(res)\n",
        "\n",
        "txtExpandido = sub( r'\\[(.*?)\\]', expande, texto)\n",
        "print(txtExpandido)\n"
      ]
    },
    {
      "cell_type": "markdown",
      "metadata": {
        "id": "z8HMWeua6Zc2"
      },
      "source": [
        "## Exercício 8 - Remoção de repetidos\n",
        "\n",
        "Escreve um filtro de texto que sempre que encontrar no texto fonte uma palavra repetida elimina as repetições, ou seja, substitui a lista de palavras por 1 só palavra."
      ]
    },
    {
      "cell_type": "code",
      "execution_count": null,
      "metadata": {
        "colab": {
          "base_uri": "https://localhost:8080/"
        },
        "id": "YZxTwl0C6v2b",
        "outputId": "6bd80781-a6e8-4abc-d8c7-93f7990b14bc"
      },
      "outputs": [
        {
          "name": "stdout",
          "output_type": "stream",
          "text": [
            "\n"
          ]
        }
      ],
      "source": [
        "# ...\n",
        "import re\n",
        "\n",
        "frase = input()\n",
        "while frase != \"\":\n",
        "  frase = re.sub( ......, frase)\n",
        "  print(frase)\n",
        "  frase = input()\n"
      ]
    },
    {
      "cell_type": "markdown",
      "metadata": {
        "id": "4sw8tQYnHlyB"
      },
      "source": [
        "## Exercício 9 - Processador de entrevistas (EU/ELE)\n",
        "\n",
        "Escreve um filtro de texto ler um texto com entrevistas de rua em que a fala do entrevistador começaa por \"EU:\" e a fala do entrevistado começa por \"ELE:\".\n",
        "Pretende-se que em cada fala os indicadores de personagem sejam substituidos pelos respetivos NOMES de acordo com a definição inicial começada, respetivamente, por \"EU=\" e por \"ELE=\".\n",
        "\n",
        "Para testar o seu processador use o ficheiro 'entrevita.txt' abaixo:\n",
        "«««\n",
        "\n",
        "EU = Pedro Henriques.\n",
        "\n",
        "ele = Beltrão Coelho.\n",
        "\n",
        "Eu: Bom dia, como está? tudo bem consigo?\n",
        "qual o seu nome?\n",
        "\n",
        "ele:eu chamo-me Beltrão Coelho e estou muito bem.\n",
        "e qual o seu nome?\n",
        "\n",
        "EU:Pedro um seu criado! Ele é o Zezinho.\n",
        "\n",
        "ELE: Ah ok muito bem. Prazer Zezinho, eu: não o conhecia.\n",
        "eu: vamos então começar a entrevista que ele quer começar a filmar.\n",
        "\n",
        "Eu =Nuno Fernandes.\n",
        "\n",
        "Ele= Alberto Coelho.\n",
        "\n",
        "Eu: Bom dia, como está? tudo bem consigo?\n",
        "qual o seu nome?\n",
        "\n",
        "ele: eu chamo-me Alberto Coelho e estou muito bem.\n",
        "e qual o seu nome?\n",
        "\n",
        "EU: Pedro um seu criado! Ele é o Zezinho.\n",
        "\n",
        "ELE: Ah ok muito bem. Prazer Zezinho, eu não o conhecia.\n",
        "\n",
        "eu: vamos então começar a entrevista que ele quer começar a filmar.\n",
        "\n",
        "ELE = Ana Camacho.\n",
        "\n",
        "Eu: Bom dia, como está? tudo bem consigo?\n",
        "qual o seu nome?\n",
        "\n",
        "ele: sim tudo otimo!\n",
        "\n",
        "»»»"
      ]
    },
    {
      "cell_type": "code",
      "execution_count": null,
      "metadata": {
        "id": "Jl7D9E06I3Sv"
      },
      "outputs": [],
      "source": [
        "from re import *\n",
        "\n",
        "eu = ''\n",
        "ele = ''\n",
        "lin = 0\n",
        "\n",
        "f = open(\"/entrevista.txt\", \"r\", encoding=\"utf-8\")\n",
        "for linha in f:\n",
        "    lin +=1\n",
        "    enc = match( r'(?i:eu):', linha)\n",
        "    if (enc):\n",
        "      print(\"Linha: \",lin)\n",
        "\n",
        "\n",
        "f.close()\n"
      ]
    },
    {
      "cell_type": "markdown",
      "metadata": {
        "id": "n1BdZA3pOxAh"
      },
      "source": [
        "## Exercício 10 - Construção de um Analisador Léxico\n",
        "\n",
        "Observe a função escrita numa determinada linguagem de programação em que as palavras em bold são palavras reservadas.\n",
        "\n",
        "«««\n",
        "\n",
        "**def** fun ( **int** x , **str** pal ) :\n",
        "\n",
        " **int** y\n",
        "\n",
        " y = x + conv ( pal )\n",
        "\n",
        "**return** y\n",
        "\n",
        "»»»\n",
        "\n",
        "Identifique todos os **símbolos terminais** da linguagem, atribua a cada um desses símbolos um código inteiro.\n",
        "Depois escreva uma analisador léxico que leia a função acima e a transforme numa sequência de códigos.\n",
        "\n",
        "\n",
        "\n",
        "\n"
      ]
    },
    {
      "cell_type": "code",
      "execution_count": null,
      "metadata": {
        "colab": {
          "base_uri": "https://localhost:8080/"
        },
        "id": "xfJPOgjKWcw6",
        "outputId": "f52c2772-1fea-4ab3-bb87-ab835e510201"
      },
      "outputs": [
        {
          "name": "stdout",
          "output_type": "stream",
          "text": [
            "\n",
            "1 0 5 2 0 10 4 0 6 7\n",
            "    2 0\n",
            "    0 8 0 9 0 5 0 6\n",
            "    3 0\n",
            "0 5 11 10 12 6\n",
            "\n"
          ]
        }
      ],
      "source": [
        "import re\n",
        "\n",
        "txtfnt = \"\"\"\n",
        "def fun ( int x , str pal ) :\n",
        "    int y\n",
        "    y = x + conv ( pal )\n",
        "    return y\n",
        "fun ( 12 , \"abc\" )\n",
        "\"\"\"\n",
        "#1 0 5 2 0 10 4 0 6 7\n",
        "#2 0 \n",
        "#0 8 0 9 0 5 0 6\n",
        "#3 0\n",
        "#0 5 11 10 12 6\n",
        "\n",
        "# tabela de símbolos\n",
        "st = { \n",
        "      \"def\" : 1,\n",
        "       \"int\" : 2,\n",
        "       \"return\" : 3,\n",
        "       \"str\" : 4,\n",
        "       \"(\" : 5,\n",
        "       \")\" : 6,\n",
        "       \":\" : 7,\n",
        "       \"=\" : 8,\n",
        "       \"+\" : 9,\n",
        "       \",\" : 10\n",
        "    }\n",
        "\n",
        "def codifica(txt):\n",
        "  s = re.search(r'\\d+',txt.group())\n",
        "  if s:\n",
        "    res = 11\n",
        "  else:\n",
        "    s = re.search(r'\\\"[^\"]*\\\"', txt.group())\n",
        "    if s:\n",
        "      # string (qualquer caracter entre qualquer coisa (exemplo, aspas))\n",
        "      res = 12\n",
        "    else:\n",
        "      res = st.get(txt[0],0)\n",
        "      # caso não encontre txt[0] na simbol table, devolve 0 (identificador)\n",
        "  return str(res)\n",
        "\n",
        "simbolos = re.sub(r'[^\\s]+', codifica, txtfnt)\n",
        "# argumento da função codifica -> objeto match que faz match da exp reg no txtfnt\n",
        "print(simbolos)\n"
      ]
    }
  ],
  "metadata": {
    "colab": {
      "provenance": []
    },
    "kernelspec": {
      "display_name": "Python 3",
      "name": "python3"
    },
    "language_info": {
      "name": "python"
    }
  },
  "nbformat": 4,
  "nbformat_minor": 0
}
