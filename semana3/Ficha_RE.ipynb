{
  "cells": [
    {
      "cell_type": "markdown",
      "metadata": {
        "id": "oVaAea-wCM6H"
      },
      "source": [
        "# Ficha de Expressões Regulares 1\n"
      ]
    },
    {
      "cell_type": "markdown",
      "metadata": {
        "id": "gk5jnHXt9t4y"
      },
      "source": [
        "## Conceitos básicos de expressões regulares\n",
        "\n",
        "- `a` - corresponde a uma ocorrência do caracter `a`.\n",
        "- `a?` - corresponde a 0 ou 1 ocorrências do caracter `a`.\n",
        "- `a+` - corresponde a 1 ou mais ocorrências do caracter `a`.\n",
        "- `a*` - corresponde a 0 ou mais ocorrências do caracter `a`.\n",
        "- `[abc]` - corresponde a uma ocorrência de um dos caracteres `a`, `b` ou `c`.\n",
        "- `[a-z]` - corresponde a uma ocorrência de um caracter entre `a` e `z`.\n",
        "- `^` - corresponde ao início da string.\n",
        "- `$` - corresponde ao fim da string.\n",
        "- `[^abc]` - corresponde a uma ocorrência de qualquer caracter que não seja `a`, `b` ou `c`.\n",
        "\n",
        "Podemos usar o operador de união para unir várias expressões regulares. Por exemplo: `a|bbb|[^a-z]`, que corresponde a uma das várias (neste caso, 3) expressões regulares que fazem parte da união.\n",
        "\n",
        "Podemos simplificar expressões regulares como `bbb` para `b{3}`, ou seja, 3 ocorrências consecutivas do caracter `b`, neste caso. Outras opções incluem `b{3,}` para 3 ou mais ocorrências ou `b{3,6}` para entre 3 a 6 ocorrências, por exemplo.\n",
        "\n",
        "Para formar grupos de expressões regulares, usamos parênteses. Por exemplo: `((abc)*|[0-9]+)?`. Os operadores após um grupo atuam sobre o grupo.\n",
        "\n",
        "Podemos ainda aplicar modificadores a grupos. Por exemplo, `(?i:teste)` corresponde à expressão \"teste\", escrita com qualquer combinação de maiúsculas e minúsculas (e.g., \"TESTE\", \"tEsTe\", \"TEste\", etc.)."
      ]
    },
    {
      "cell_type": "code",
      "execution_count": null,
      "metadata": {
        "colab": {
          "base_uri": "https://localhost:8080/"
        },
        "id": "K_3uj9oyLxBv",
        "outputId": "6874d088-ae7f-4bca-9cea-506f4b57e145"
      },
      "outputs": [
        {
          "name": "stdout",
          "output_type": "stream",
          "text": [
            "<re.Match object; span=(1, 7), match='teste,'>\n",
            "adeus\n"
          ]
        }
      ],
      "source": [
        "import re\n",
        "\n",
        "# match tem que correr no inicio da string, obrigatoriamente -> ^\n",
        "# search, final da string -> $ \n",
        "\n",
        "# s = 2025-02-20\n",
        "# ( (-) ? ) ( [0-9]+ ) - ( (0[1-9]) | (1[0-2]) ) - (( (0[1-9])  | ([1-2][0-9]) | (3[0-1]))\n",
        "\n",
        "\n",
        "# opcional || conjuntos\n",
        "#( ? (-)  )  ==  ( (-) {0,1} ) \n",
        "\n",
        "\n",
        "\n",
        "# compile -> usar no trabalho \n",
        "# passa a frente a representação da exp reg\n",
        "\n",
        "\n",
        "\n",
        "# sub , da match de uma exp e substitui se der match\n",
        "\n",
        "\n",
        "# match, search, compile, findall, split e o sub\n",
        "result = re.search(r\"([a-z]+)(,)\",\"1teste,\") # teste,\n",
        "print(result)\n",
        "#print(result.groups())\n",
        "#print(result.group(1))\n",
        "#print(result.span())\n",
        "#result = re.findall(\"([a-z]+)(,)\",\"1teste,\") # teste,\n",
        "#print(result)\n",
        "#x=re.compile(\"([a-z]+)(,)\")\n",
        "#print(x.match(\"1teste,\"))\n",
        "result2 = re.sub(r\"([a-z]+)(,)\",\"adeus\",\"ola,\") # pattern,rep, string origin\n",
        "print(result2)\n"
      ]
    },
    {
      "cell_type": "markdown",
      "metadata": {
        "id": "47TE0MWfmzno"
      },
      "source": [
        "## Exercício 0\n",
        "Especifique expressões regulares para strings binárias utilizando o [regex101](https://regex101.com/) (compostas apenas por 0's e 1's) atendendo às seguintes restrições:\n",
        "\n",
        "1.   Todas as strings binárias;\n",
        "2.   Todas as strings binárias excepto a string vazia;\n",
        "3.   Todas as strings binárias que começam e terminam por '1';\n",
        "4.   Todas as strings binárias que terminam por \"00\";\n",
        "5.   Todas as strings binárias que contêm pelo menos 3 '1';\n",
        "6.   Todas as strings binárias que contêm a substring \"110\";\n",
        "7.   Todas as strings binárias que não contêm a substring \"110\";\n",
        "8.   Todas as strings binárias que contêm pelo menos três carateres e o terceiro é '0';\n",
        "9.  Todas as strings binárias que começam e acabam pelo mesmo dígito.\n",
        "\n",
        "(Extraído de material do jcr)"
      ]
    },
    {
      "cell_type": "code",
      "execution_count": null,
      "metadata": {},
      "outputs": [],
      "source": [
        "# .1)  [0-1]*\n",
        "# .2)  [0-1]+\n",
        "# .3)  1[0-1]*1\n",
        "# .4)  [0-1]*00\n",
        "# .5)  0*10*0*10*1[0-1]*\n",
        "# .6)  [0-1]*110[0-1]*\n",
        "# -7)  [0-1]*"
      ]
    },
    {
      "cell_type": "markdown",
      "metadata": {
        "id": "yDRt0yOgJ-TW"
      },
      "source": [
        "## Exercício 1"
      ]
    },
    {
      "cell_type": "markdown",
      "metadata": {
        "id": "gI05knhniDCr"
      },
      "source": [
        "### Alínea 1.1\n",
        "\n",
        "Dada uma linha de texto, define um programa que determina se a palavra \"hello\" aparece no início da linha.\n",
        "\n",
        "Conceitos importantes para este exercício:\n",
        "\n",
        "- `re.match(pattern, string[, flags])` - analisa a `string` e tenta encontrar uma correspondência para a expressão regular `pattern` a partir do início da string. Devolve `None` se não encontrar nenhuma correspondência.\n",
        "- `r\"\"` - string correspondente a uma expressão regular."
      ]
    },
    {
      "cell_type": "code",
      "execution_count": null,
      "metadata": {
        "id": "ufl-7TGph9WH"
      },
      "outputs": [],
      "source": [
        "line1 = \"hello world\"\n",
        "line2 = \"goodbye world\"\n",
        "line3 = \"hi, hello there\"\n",
        "\n",
        "import re\n",
        "\n",
        "print(\"Linhas que contêm a palavra: hello no início (à esquerda)\")\n",
        "inputFromUser = input(\">> \")\n",
        "while inputFromUser != \"\":\n",
        " pass\n"
      ]
    },
    {
      "cell_type": "markdown",
      "metadata": {
        "id": "gzgOACqiJ7VN"
      },
      "source": [
        "### Alínea 1.2\n",
        "\n",
        "Dada uma linha de texto, define um programa que determina se a palavra \"hello\" aparece em qualquer posição da linha.\n",
        "\n",
        "Conceitos importantes para este exercício:\n",
        "\n",
        "- `re.search(pattern, string[, flags])` - analisa a `string` e tenta encontrar uma correspondência para a expressão regular `pattern` em qualquer posição da string. Devolve `None` se não encontrar nenhuma correspondência."
      ]
    },
    {
      "cell_type": "code",
      "execution_count": null,
      "metadata": {
        "id": "TM-qMl-yJ7VS"
      },
      "outputs": [],
      "source": [
        "line1 = \"hello world\"\n",
        "line2 = \"goodbye world\"\n",
        "line3 = \"hi, hello there\"\n",
        "\n",
        "# ...\n",
        "import re\n",
        "\n",
        "print(\"1. Linhas que contêm a palavra: hello\")\n",
        "inputFromUser = input(\">> \")\n",
        "while inputFromUser != \"\":\n",
        " pass\n"
      ]
    },
    {
      "cell_type": "markdown",
      "metadata": {
        "id": "6ZE7klswOy90"
      },
      "source": [
        "### Alínea 1.3\n",
        "\n",
        "Dada uma linha de texto, define um programa que pesquisa por todas as ocorrências da palavra \"hello\" dentro da linha, admitindo que a palavra seja escrita com maiúsculas ou minúsculas.\n",
        "\n",
        "Conceitos importantes para este exercício:\n",
        "\n",
        "- `re.findall(pattern, string[, flags])` - encontra todas as correspondências que não se sobreponham da expressão regular `pattern` na `string`. Devolve uma lista."
      ]
    },
    {
      "cell_type": "code",
      "execution_count": null,
      "metadata": {
        "id": "aHB_l7g5OzNY"
      },
      "outputs": [],
      "source": [
        "line = \"Hello there! Uh, hi, hello, it's me... Heyyy, hello? HELLO!\"\n",
        "\n",
        "# ...\n",
        "import re\n",
        "\n",
        "inputFromUser = input(\">> \")\n",
        "while inputFromUser != \"\":\n",
        "  pass"
      ]
    },
    {
      "cell_type": "markdown",
      "metadata": {
        "id": "TSwUj26OPRmP"
      },
      "source": [
        "### Alínea 1.4\n",
        "\n",
        "Dada uma linha de texto, define um programa que pesquisa por todas as ocorrências da palavra \"hello\" dentro da linha, substituindo cada uma por \"\\*YEP\\*\".\n",
        "\n",
        "Conceitos importantes para este exercício:\n",
        "\n",
        "- `re.sub(pattern, replacement, string, count = 0)` - substitui todas as correspondências da expressão regular `pattern` na `string` por `replacement`. `replacement` pode ser uma string, uma expressão regular ou uma função que recebe uma correspondência e devolve uma string. O parâmetro opcional `count` determina o limite de substituições (por omissão é 0, ou seja, não há limite)."
      ]
    },
    {
      "cell_type": "code",
      "execution_count": null,
      "metadata": {
        "id": "SXLK2rhMPf11"
      },
      "outputs": [],
      "source": [
        "line = \"Hello there! Uh, hi, hello, it's me... Heyyy, hello? HELLO!\"\n",
        "\n",
        "# ...\n",
        "import re\n",
        "\n",
        "inputFromUser = input(\">> \")\n",
        "while inputFromUser != \"\":\n",
        "  pass"
      ]
    },
    {
      "cell_type": "markdown",
      "metadata": {
        "id": "MrgsEzJCPgbO"
      },
      "source": [
        "### Alínea 1.5\n",
        "\n",
        "Dada uma linha de texto, define um programa que pesquisa por todas as ocorrências do caracter vírgula, separando cada parte da linha por esse caracter.\n",
        "\n",
        "Conceitos importantes para este exercício:\n",
        "\n",
        "- `re.split(pattern, string, maxsplit = 0)` - divide a `string` com base nas correspondências da expressão regular `pattern`. O parâmetro opcional `maxsplit` pode ser usado para definir um limite de divisões (por omissão é 0, que corresponde a qualquer números de divisões)."
      ]
    },
    {
      "cell_type": "code",
      "execution_count": null,
      "metadata": {
        "id": "vrwiid6XPgvg"
      },
      "outputs": [],
      "source": [
        "line = \"bananas, laranjas, maçãs, uvas, melancias, cerejas, kiwis, etc.\"\n",
        "\n",
        "# ...\n",
        "import re\n",
        "\n",
        "inputFromUser = input(\">> \")\n",
        "while inputFromUser != \"\":\n",
        "  pass\n"
      ]
    },
    {
      "cell_type": "markdown",
      "metadata": {
        "id": "6QP0erT4iSzE"
      },
      "source": [
        "## Exercício 2\n",
        "\n",
        "Define a função `palavra_magica` que recebe uma frase e determina se a mesma termina com a expressão \"por favor\", seguida de um sinal válido de pontuação."
      ]
    },
    {
      "cell_type": "code",
      "execution_count": null,
      "metadata": {
        "id": "MhCC49z7jU7n"
      },
      "outputs": [],
      "source": [
        "import re\n",
        "\n",
        "def palavra_magica(frase):\n",
        "  pass\n",
        "\n",
        "print(palavra_magica(\"Posso ir à casa de banho, por  favor?\"))\n",
        "print(palavra_magica(\"Preciso de um favor.\"))"
      ]
    },
    {
      "cell_type": "markdown",
      "metadata": {
        "id": "L71wvPCujpBD"
      },
      "source": [
        "## Exercício 3\n",
        "\n",
        "Define a função `narcissismo` que calcula quantas vezes a palavra \"eu\" aparece numa string."
      ]
    },
    {
      "cell_type": "code",
      "execution_count": null,
      "metadata": {
        "id": "0HxFCow5nOj8"
      },
      "outputs": [],
      "source": [
        "import re\n",
        "\n",
        "def narcissismo(linha):\n",
        "    pass\n",
        "\n",
        "print(narcissismo(\"Eu não sei se eu quero continuar a ser eu. Por outro lado, eu ser eu é uma parte importante de quem EU sou.\"))"
      ]
    },
    {
      "cell_type": "markdown",
      "metadata": {
        "id": "EKETfRaOolO4"
      },
      "source": [
        "## Exercício 4 ❎\n",
        "\n",
        "Define a função `troca_de_curso` que substitui todas as ocorrências de \"LEI\" numa linha pelo nome do curso dado à função."
      ]
    },
    {
      "cell_type": "code",
      "execution_count": null,
      "metadata": {
        "id": "8ZVPMxfZpRrx"
      },
      "outputs": [],
      "source": [
        "import re\n",
        "\n",
        "def troca_de_curso(linha, novo_curso):\n",
        "  pass\n",
        "\n",
        "fonte = \"LEI é o melhor curso! Adoro LEI! Gostar de LEI devia ser uma lei.\"\n",
        "curso = input(\"Novo curso? \")\n",
        "print(troca_de_curso(fonte, curso))\n"
      ]
    },
    {
      "cell_type": "markdown",
      "metadata": {
        "id": "GZKMkTKcp886"
      },
      "source": [
        "## Exercício 5 ❎\n",
        "\n",
        "Define a função `soma_string` que recebe uma string com vários números separados por uma vírgula (e.g., \"1,2,3,4,5\") e devolve a soma destes números."
      ]
    },
    {
      "cell_type": "code",
      "execution_count": 15,
      "metadata": {
        "id": "ExqmZwj_rzuR"
      },
      "outputs": [
        {
          "name": "stdout",
          "output_type": "stream",
          "text": [
            "16\n"
          ]
        }
      ],
      "source": [
        "\n",
        "import re\n",
        "\n",
        "def soma_string(linha):\n",
        "    soma = 0\n",
        "    list_linha = re.findall(r\"-?\\d+\", linha)  # Captura números inteiros, positivos e negativos\n",
        "    for n in list_linha:\n",
        "        soma += int(n)  # Converte a string para inteiro e soma\n",
        "    return soma\n",
        "\n",
        "print(soma_string(\"4,10,-6,2,3,8,-3,0,2,-5,1\"))  # Saída esperada: 16\n",
        "\n"
      ]
    },
    {
      "cell_type": "markdown",
      "metadata": {
        "id": "n49iafoNzw-3"
      },
      "source": [
        "## Exercício 6\n",
        "\n",
        "Define a função `pronomes` que encontra e devolve todos os pronomes pessoais presentes numa frase, i.e., \"eu\", \"tu\", \"ele\", \"ela\", etc., com atenção para letras maiúsculas ou minúsculas."
      ]
    },
    {
      "cell_type": "code",
      "execution_count": null,
      "metadata": {
        "colab": {
          "base_uri": "https://localhost:8080/"
        },
        "id": "RnuCrz2H0DWq",
        "outputId": "50b58a4f-5403-401c-a5b0-e1bce9cd072f"
      },
      "outputs": [
        {
          "name": "stdout",
          "output_type": "stream",
          "text": [
            "['eu', 'Tu', 'tu', 'ele', 'Eu', 'vós', 'Eu', 'ele']\n",
            "{'vós', 'Eu', 'tu', 'ele', 'eu', 'Tu'}\n",
            "{'VÓS', 'TU', 'ELE', 'EU'}\n"
          ]
        }
      ],
      "source": [
        "import re\n",
        "\n",
        "def toupper(lista):\n",
        "  pass\n",
        "\n",
        "def pronomes(frase):\n",
        "  pass\n",
        "\n",
        "pslist = pronomes(\"Ola eu vou de certeza. Tu tu e ele, vêm? Eu não espero por vós. Eu estou com pressa, ele tem de vir!\")\n",
        "print(pslist)\n",
        "\n",
        "print(set(pslist))\n",
        "psset = set(toupper(pslist))\n",
        "print(psset)\n",
        "\n"
      ]
    },
    {
      "cell_type": "code",
      "execution_count": null,
      "metadata": {
        "id": "Nx7BD5m_dfT7"
      },
      "outputs": [],
      "source": [
        "# passem à frente !\n",
        "import re\n",
        "\n",
        "prons = {'eu','tu','ele','nós','vós','eles'}\n",
        "encontrados = set()\n",
        "frase = input(\">> \")\n",
        "while frase:\n",
        "  pass\n"
      ]
    },
    {
      "cell_type": "markdown",
      "metadata": {
        "id": "BHMk88OQ0XFY"
      },
      "source": [
        "## Exercício 7\n",
        "\n",
        "Define a função `variavel_valida` que recebe uma string e determina se a mesma é um nome válido para uma variável, ou seja, se começa por uma letra e apenas contém letras, números ou *underscores*."
      ]
    },
    {
      "cell_type": "code",
      "execution_count": null,
      "metadata": {
        "id": "YTQW91Ws1WLx"
      },
      "outputs": [],
      "source": [
        "import re\n",
        "\n",
        "def variavel_valida(id):\n",
        "  pass\n",
        "\n",
        "print(variavel_valida(\"aa11_aa aa\"))\n",
        "\n"
      ]
    },
    {
      "cell_type": "markdown",
      "metadata": {
        "id": "ZRWbgkMM5qzx"
      },
      "source": [
        "## Exercício 8\n",
        "\n",
        "Define a função `inteiros` que devolve todos os números inteiros presentes numa string. Um número inteiro pode conter um ou mais dígitos e pode ser positivo ou negativo."
      ]
    },
    {
      "cell_type": "code",
      "execution_count": null,
      "metadata": {
        "id": "jsmiEi6gA7vh"
      },
      "outputs": [],
      "source": [
        "from re import *\n",
        "\n",
        "fonte = \"\"\"\n",
        "123 ddddd;\n",
        "+345.77 gkmrm;\n",
        "8766 yyyyy;\n",
        "-1234 +3ddd4 -15\n",
        "fim\n",
        "\"\"\"\n",
        "\n",
        "def extrai_inteiros(texto):\n",
        "  pass\n",
        "\n",
        "print(extrai_inteiros(fonte))"
      ]
    },
    {
      "cell_type": "markdown",
      "metadata": {
        "id": "QhpGhtBT7aD3"
      },
      "source": [
        "## Exercício 9\n",
        "\n",
        "Define a função `underscores` que substitui todos os espaços numa string por *underscores*. Se aparecerem vários espaços seguidos, devem ser substituídos por apenas um *underscore*."
      ]
    },
    {
      "cell_type": "code",
      "execution_count": null,
      "metadata": {
        "id": "1YTIkZT-6Ase"
      },
      "outputs": [],
      "source": [
        "import re\n",
        "\n",
        "def underscores( frase ):\n",
        "  pass\n",
        "\n",
        "print(underscores(\"Aqui temos   um belo  exemplo   de frase!\"))\n"
      ]
    },
    {
      "cell_type": "markdown",
      "metadata": {
        "id": "xcUrRlIy8uof"
      },
      "source": [
        "## Exercício 10 ❎\n",
        "\n",
        "Define a função `codigos_postais` que recebe uma lista de códigos postais válidos e divide-os com base no hífen. A função deve devolver uma lista de pares."
      ]
    },
    {
      "cell_type": "code",
      "execution_count": null,
      "metadata": {
        "id": "6xj01Oy09ncO"
      },
      "outputs": [],
      "source": [
        "import re\n",
        "\n",
        "lista = [\n",
        "    \"4700-000\",\n",
        "    \"1234-567\",\n",
        "    \"8541-543\",\n",
        "    \"4123-974\",\n",
        "    \"9481-025\"\n",
        "]\n",
        "lista2 = \"1100-3#1234-777#1198-999#4715-012\"\n",
        "\n",
        "def codigos(listaCPs):\n",
        "  lista_codigos = []\n",
        "  x = re.compile(r\"\\d{4}-\\d{3}\", listaCPs)\n",
        "  for i in x:\n",
        "    i = i.split(\"-\")\n",
        "    \n",
        "  \n",
        "\n",
        "print(codigos(lista))\n",
        "print(codigos(re.split(r'#',lista2)))\n",
        "\n"
      ]
    }
  ],
  "metadata": {
    "colab": {
      "provenance": []
    },
    "kernelspec": {
      "display_name": "Python 3",
      "name": "python3"
    },
    "language_info": {
      "codemirror_mode": {
        "name": "ipython",
        "version": 3
      },
      "file_extension": ".py",
      "mimetype": "text/x-python",
      "name": "python",
      "nbconvert_exporter": "python",
      "pygments_lexer": "ipython3",
      "version": "3.10.12"
    }
  },
  "nbformat": 4,
  "nbformat_minor": 0
}
